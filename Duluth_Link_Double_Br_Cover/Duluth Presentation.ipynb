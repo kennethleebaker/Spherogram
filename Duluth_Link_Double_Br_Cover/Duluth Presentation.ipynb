{
 "cells": [
  {
   "cell_type": "code",
   "execution_count": 19,
   "id": "7f135804",
   "metadata": {},
   "outputs": [],
   "source": [
    "#Becca, Chaeryn, Jonathan, Ken, Kyle, Patricia, Sean\n",
    "\n",
    "import snappy\n",
    "from spherogram.links.tangles import *\n",
    "from spherogram.links.dbc import *\n",
    "%gui tk"
   ]
  },
  {
   "cell_type": "code",
   "execution_count": 20,
   "id": "69286172",
   "metadata": {},
   "outputs": [
    {
     "name": "stdout",
     "output_type": "stream",
     "text": [
      "Starting the link editor.\n",
      "Select Tools->Send to SnapPy to load the link complement.\n",
      "\n",
      "New triangulation received from PLink!\n"
     ]
    }
   ],
   "source": [
    "#If you've drawn the annular link from the tangle T in Plink\n",
    "\n",
    "M=snappy.Manifold()"
   ]
  },
  {
   "cell_type": "code",
   "execution_count": 21,
   "id": "4d446bda",
   "metadata": {},
   "outputs": [],
   "source": [
    "#Get the link from the manifold\n",
    "\n",
    "TestLink1=M.link()"
   ]
  },
  {
   "cell_type": "code",
   "execution_count": 22,
   "id": "2cd8f992",
   "metadata": {},
   "outputs": [
    {
     "data": {
      "text/plain": [
       "[m004(0,0), 4_1(0,0), K2_1(0,0), K4a1(0,0), otet02_00001(0,0)]"
      ]
     },
     "execution_count": 22,
     "metadata": {},
     "output_type": "execute_result"
    }
   ],
   "source": [
    "#Find the double branched cover of T\n",
    "\n",
    "double_branched_cover(TestLink1).identify()"
   ]
  },
  {
   "cell_type": "code",
   "execution_count": 23,
   "id": "36436220",
   "metadata": {},
   "outputs": [],
   "source": [
    "#T as a Spherogram tangle\n",
    "\n",
    "TestTangle = BraidTangle([2, 2, 1, 1, 2, 2, 1, 1, 2]) + IdentityBraid(1)\n"
   ]
  },
  {
   "cell_type": "code",
   "execution_count": 24,
   "id": "60d23d42",
   "metadata": {},
   "outputs": [
    {
     "data": {
      "text/plain": [
       "[m004(0,0), 4_1(0,0), K2_1(0,0), K4a1(0,0), otet02_00001(0,0)]"
      ]
     },
     "execution_count": 24,
     "metadata": {},
     "output_type": "execute_result"
    }
   ],
   "source": [
    "#Find annular closure and then take double branched cover as before\n",
    "\n",
    "TestLink2=TestTangle.annular_closure(-1)\n",
    "double_branched_cover(TestLink2).identify()"
   ]
  },
  {
   "cell_type": "code",
   "execution_count": 25,
   "id": "ae8a485b",
   "metadata": {},
   "outputs": [
    {
     "data": {
      "text/plain": [
       "[m004(0,0), 4_1(0,0), K2_1(0,0), K4a1(0,0), otet02_00001(0,0)]"
      ]
     },
     "execution_count": 25,
     "metadata": {},
     "output_type": "execute_result"
    }
   ],
   "source": [
    "#Compute double branched cover of tangle directly\n",
    "\n",
    "dbc_tangle(TestTangle).identify()"
   ]
  },
  {
   "cell_type": "code",
   "execution_count": 26,
   "id": "68e0aac8",
   "metadata": {},
   "outputs": [
    {
     "name": "stdout",
     "output_type": "stream",
     "text": [
      "Starting the link editor.\n",
      "Select Tools->Send to SnapPy to load the link complement.\n",
      "\n",
      "New triangulation received from PLink!\n"
     ]
    }
   ],
   "source": [
    "M2=snappy.Manifold()\n",
    "#LinkExamples/testLink.lnk"
   ]
  },
  {
   "cell_type": "code",
   "execution_count": 27,
   "id": "2607eded",
   "metadata": {},
   "outputs": [],
   "source": [
    "TestLink2=M2.link()"
   ]
  },
  {
   "cell_type": "code",
   "execution_count": 28,
   "id": "08966b55",
   "metadata": {},
   "outputs": [
    {
     "data": {
      "text/plain": [
       "[8_19(0,0), K8n3(0,0)]"
      ]
     },
     "execution_count": 28,
     "metadata": {},
     "output_type": "execute_result"
    }
   ],
   "source": [
    "double_branched_cover(TestLink2).identify()"
   ]
  },
  {
   "cell_type": "code",
   "execution_count": null,
   "id": "721cddea",
   "metadata": {},
   "outputs": [],
   "source": []
  }
 ],
 "metadata": {
  "kernelspec": {
   "display_name": "SageMath 9.4",
   "language": "sage",
   "name": "sagemath-9.4"
  },
  "language_info": {
   "codemirror_mode": {
    "name": "ipython",
    "version": 3
   },
   "file_extension": ".py",
   "mimetype": "text/x-python",
   "name": "python",
   "nbconvert_exporter": "python",
   "pygments_lexer": "ipython3",
   "version": "3.9.5"
  }
 },
 "nbformat": 4,
 "nbformat_minor": 5
}
